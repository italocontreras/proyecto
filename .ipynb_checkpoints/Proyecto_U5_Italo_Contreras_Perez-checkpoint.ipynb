{
 "cells": [
  {
   "cell_type": "markdown",
   "metadata": {},
   "source": [
    "<h2><font color=\"#004D7F\" size=6>Unidad 5. Fase de modelado</font></h2>\n",
    "\n",
    "\n",
    "\n",
    "\n",
    "<br><br>\n",
    "<div style=\"text-align: right\">\n",
    "<font color=\"#004D7F\" size=3>Italo Contreras Peerez</font><br>\n",
    "<font color=\"#004D7F\" size=3>Machine Learning con Python</font><br>"
   ]
  },
  {
   "cell_type": "markdown",
   "metadata": {},
   "source": [
    "---\n",
    "\n",
    "<h2><font color=\"#004D7F\" size=5>Índice</font></h2>\n",
    "<a id=\"indice\"></a>\n",
    "\n",
    "* [1. Introducción](#section1)\n",
    "    * [1.1. Cargando mi dataset](#section11)\n",
    "* [2. Algoritmos de Regresión](#section2)\n",
    "    * [2.1. Algoritmos de taxonomía lineal](#section21)\n",
    "    * [2.2. Algoritmos de taxonomía no lineal](#section22)\n",
    "    * [2.3. Plantilla para comparar algoritmos](#section23)    \n",
    "* [3. Algoritmos de conjunto](#section3)\n",
    "    * [3.1. Algoritmo Bagging](#section31)\n",
    "    * [3.1. Algoritmo Boosting](#section32)\n",
    "    * [3.1. Algoritmo Voting](#section33)    \n",
    "* [4. Super Lerner](#section4)\n"
   ]
  },
  {
   "cell_type": "code",
   "execution_count": 2,
   "metadata": {},
   "outputs": [
    {
     "data": {
      "text/html": [
       "<style>.container{ width:98% }</style>"
      ],
      "text/plain": [
       "<IPython.core.display.HTML object>"
      ]
     },
     "metadata": {},
     "output_type": "display_data"
    }
   ],
   "source": [
    "# Permite ajustar la anchura de la parte útil de la libreta (reduce los márgenes)\n",
    "from IPython.core.display import display, HTML\n",
    "display(HTML(\"<style>.container{ width:98% }</style>\"))"
   ]
  },
  {
   "cell_type": "markdown",
   "metadata": {},
   "source": [
    "---\n",
    "\n",
    "<a id=\"section1\"></a>\n",
    "# <font color=\"#004D7F\"> 1. Introducción</font>"
   ]
  },
  {
   "cell_type": "markdown",
   "metadata": {},
   "source": [
    "En esta sección, vamos a analizar algunos de estos algoritmos, en especial, los de taxonomía lineal y no lineal. En cuanto a la taxonomía de conjunto o ensamblados, como los tipo boosting y bagging, los veremos posteriormente cuando ya tengamos una base sólida de estos primeros. \n"
   ]
  },
  {
   "cell_type": "markdown",
   "metadata": {},
   "source": [
    "<a id=\"section12\"></a>\n",
    "## <font color=\"#004D7F\"> 1.1. Cargando mi dataset</font>"
   ]
  },
  {
   "cell_type": "markdown",
   "metadata": {},
   "source": [
    "Voy a seguir usando el dataset que escogi desde un prinicipio\n"
   ]
  },
  {
   "cell_type": "code",
   "execution_count": 92,
   "metadata": {},
   "outputs": [],
   "source": [
    "\n",
    "import pandas as pd\n",
    "filename_reg = 'data/forestfires.csv'\n",
    "data = pd.read_csv(filename_reg)\n",
    "data1=data.drop(['month'], axis=1)\n",
    "data2=data1.drop(['day'], axis=1)\n",
    "#names=['X','Y','FFMC','DMC','DC','ISI','temp','RH','wind','rain','area']\n",
    "array_reg = data2.values\n",
    "X=data2.drop(\"area\",1)\n",
    "Y=data2[\"area\"]\n",
    "#Dividamos la data de esta forma par el SuperLerner\n",
    "X_SL=array_reg[:,0:10]\n",
    "Y_SL=array_reg[:,10]\n",
    "\n",
    "\n"
   ]
  },
  {
   "cell_type": "markdown",
   "metadata": {},
   "source": [
    "<div style=\"text-align: right\"> <font size=5>\n",
    "    <a href=\"#indice\"><i class=\"fa fa-arrow-circle-up\" aria-hidden=\"true\" style=\"color:#004D7F\"></i></a>\n",
    "</font></div>\n",
    "\n",
    "---"
   ]
  },
  {
   "cell_type": "markdown",
   "metadata": {},
   "source": [
    "<a id=\"section2\"></a>\n",
    "# <font color=\"#004D7F\"> 2. Algoritmos de Regresión</font>\n"
   ]
  },
  {
   "cell_type": "markdown",
   "metadata": {},
   "source": [
    "En esta sección se estudiarán seis algoritmos de Machine Learning que puede usar al verificar su problema de regresión en Python con scikit-learn. Para ello, vamos a echar un vistazo a siete algoritmos de regresión. "
   ]
  },
  {
   "cell_type": "markdown",
   "metadata": {},
   "source": [
    "<a id=\"section21\"></a>\n",
    "## <font color=\"#004D7F\"> 2.1. Algoritmos de taxonomía lineal</font>"
   ]
  },
  {
   "cell_type": "markdown",
   "metadata": {},
   "source": [
    "Comenzamos con cuatro algoritmos lineales:\n",
    "* Linear Regression (LiR).\n",
    "* Ridge Regression (RiR).\n",
    "* LASSO Linear Regression (LASSO). \n",
    "* Elastic Net Regression (ENR)."
   ]
  },
  {
   "cell_type": "markdown",
   "metadata": {},
   "source": [
    "<a id=\"section211\"></a>\n",
    "### <font color=\"#004D7F\"> 2.1.1. Linear Regression</font>"
   ]
  },
  {
   "cell_type": "markdown",
   "metadata": {},
   "source": [
    "LiR supone que las variables de entrada tienen una distribución gaussiana. También se supone que las variables de entrada son relevantes para la variable de salida y que no están altamente correlacionadas entre sí (un problema llamado colinealidad). "
   ]
  },
  {
   "cell_type": "code",
   "execution_count": 8,
   "metadata": {},
   "outputs": [
    {
     "name": "stdout",
     "output_type": "stream",
     "text": [
      "MSE: -4128.861078750497\n"
     ]
    }
   ],
   "source": [
    "# Linear Regression\n",
    "\n",
    "from sklearn.model_selection import KFold\n",
    "from sklearn.model_selection import cross_val_score\n",
    "from sklearn.linear_model import LinearRegression\n",
    "\n",
    "\n",
    "kfold=KFold(n_splits=10,random_state=7)\n",
    "model=LinearRegression()\n",
    "scoring='neg_mean_squared_error'\n",
    "results=cross_val_score(model,X,Y,cv=kfold,scoring=scoring)\n",
    "print(f\"MSE: {results.mean()}\")"
   ]
  },
  {
   "cell_type": "markdown",
   "metadata": {},
   "source": [
    "Vemos que obtenemos un error muy alto, vamos a tratar de reducir esto usando otros modelos de taxonomia lineal"
   ]
  },
  {
   "cell_type": "markdown",
   "metadata": {},
   "source": [
    "<a id=\"section212\"></a>\n",
    "### <font color=\"#004D7F\"> 2.1.2. Ridge Regression</font>"
   ]
  },
  {
   "cell_type": "markdown",
   "metadata": {},
   "source": [
    "RiR es una extensión de LiR donde la función de pérdida se modifica para minimizar la complejidad del modelo medido como el valor de la suma cuadrática de los valores del coeficiente (también llamada norma __L2__). "
   ]
  },
  {
   "cell_type": "code",
   "execution_count": 9,
   "metadata": {},
   "outputs": [
    {
     "name": "stderr",
     "output_type": "stream",
     "text": [
      "C:\\Users\\Italo\\anaconda3\\lib\\site-packages\\sklearn\\model_selection\\_split.py:296: FutureWarning: Setting a random_state has no effect since shuffle is False. This will raise an error in 0.24. You should leave random_state to its default (None), or set shuffle=True.\n",
      "  FutureWarning\n"
     ]
    },
    {
     "name": "stdout",
     "output_type": "stream",
     "text": [
      "MSE: -4118.679963611857\n"
     ]
    }
   ],
   "source": [
    "# Ridge Regression\n",
    "\n",
    "from sklearn.model_selection import KFold\n",
    "from sklearn.model_selection import cross_val_score\n",
    "from sklearn.linear_model import Ridge\n",
    "\n",
    "\n",
    "kfold=KFold(n_splits=10,random_state=7)\n",
    "model=Ridge()\n",
    "scoring='neg_mean_squared_error'\n",
    "results=cross_val_score(model,X,Y,cv=kfold,scoring=scoring)\n",
    "print(f\"MSE: {results.mean()}\")"
   ]
  },
  {
   "cell_type": "markdown",
   "metadata": {},
   "source": [
    "Vemos que con este modelo obtenemos un error menor que con el de regresion lineal"
   ]
  },
  {
   "cell_type": "markdown",
   "metadata": {},
   "source": [
    "<a id=\"section213\"></a>\n",
    "### <font color=\"#004D7F\"> 2.1.3. LASSO Regression</font>"
   ]
  },
  {
   "cell_type": "markdown",
   "metadata": {},
   "source": [
    "LASSO es una modificación de LiR, como RiR, donde la función de pérdida se modifica para minimizar la complejidad del modelo medido como el valor absoluto de los valores del coeficiente (también llamada la norma __L1__). Puede construir un modelo LASSO utilizando la clase `Lasso`."
   ]
  },
  {
   "cell_type": "code",
   "execution_count": 10,
   "metadata": {},
   "outputs": [
    {
     "name": "stderr",
     "output_type": "stream",
     "text": [
      "C:\\Users\\Italo\\anaconda3\\lib\\site-packages\\sklearn\\model_selection\\_split.py:296: FutureWarning: Setting a random_state has no effect since shuffle is False. This will raise an error in 0.24. You should leave random_state to its default (None), or set shuffle=True.\n",
      "  FutureWarning\n"
     ]
    },
    {
     "name": "stdout",
     "output_type": "stream",
     "text": [
      "MSE: -4110.55839395247\n"
     ]
    }
   ],
   "source": [
    "# LASSO Regression\n",
    "\n",
    "from sklearn.model_selection import KFold\n",
    "from sklearn.model_selection import cross_val_score\n",
    "from sklearn.linear_model import Lasso\n",
    "\n",
    "\n",
    "kfold=KFold(n_splits=10,random_state=7)\n",
    "model=Lasso()\n",
    "scoring='neg_mean_squared_error'\n",
    "results=cross_val_score(model,X,Y,cv=kfold,scoring=scoring)\n",
    "print(f\"MSE: {results.mean()}\")"
   ]
  },
  {
   "cell_type": "markdown",
   "metadata": {},
   "source": [
    "Vemos que con el modelo LASSO obtenemos un error menor que los 2 anteriores"
   ]
  },
  {
   "cell_type": "markdown",
   "metadata": {},
   "source": [
    "<a id=\"section214\"></a>\n",
    "### <font color=\"#004D7F\"> 2.1.4. ElasticNet Regression</font>"
   ]
  },
  {
   "cell_type": "markdown",
   "metadata": {},
   "source": [
    "ENR es una forma de regresión de regularización que combina las propiedades de RIR y LASSO. Busca minimizar la complejidad del modelo de regresión (magnitud y número de coeficientes de regresión) penalizando el modelo utilizando tanto la norma L2 (valores de coeficiente de suma cuadrática) como la norma L1 (valores de coeficiente absoluto de suma). Puede construir un modelo ENR utilizando la clase `ElasticNet`."
   ]
  },
  {
   "cell_type": "code",
   "execution_count": 11,
   "metadata": {},
   "outputs": [
    {
     "name": "stdout",
     "output_type": "stream",
     "text": [
      "MSE: -4109.062032102183\n"
     ]
    },
    {
     "name": "stderr",
     "output_type": "stream",
     "text": [
      "C:\\Users\\Italo\\anaconda3\\lib\\site-packages\\sklearn\\model_selection\\_split.py:296: FutureWarning: Setting a random_state has no effect since shuffle is False. This will raise an error in 0.24. You should leave random_state to its default (None), or set shuffle=True.\n",
      "  FutureWarning\n"
     ]
    }
   ],
   "source": [
    "# ElasticNet Regression\n",
    "# Linear Regression\n",
    "\n",
    "from sklearn.model_selection import KFold\n",
    "from sklearn.model_selection import cross_val_score\n",
    "from sklearn.linear_model import ElasticNet\n",
    "\n",
    "\n",
    "kfold=KFold(n_splits=10,random_state=7)\n",
    "model=ElasticNet()\n",
    "scoring='neg_mean_squared_error'\n",
    "results=cross_val_score(model,X,Y,cv=kfold,scoring=scoring)\n",
    "print(f\"MSE: {results.mean()}\")"
   ]
  },
  {
   "cell_type": "markdown",
   "metadata": {},
   "source": [
    "Vemos que con este modelo de todos los de taxonomia lineal que estamos viendo se tiene un menor error"
   ]
  },
  {
   "cell_type": "markdown",
   "metadata": {},
   "source": [
    "<a id=\"section22\"></a>\n",
    "## <font color=\"#004D7F\"> 2.2. Algoritmos de taxonomía no lineal</font>"
   ]
  },
  {
   "cell_type": "markdown",
   "metadata": {},
   "source": [
    "Posteriormente, estudiaremos tres algoritmos no lineales:\n",
    "* $k$-Nearest Neighbors ($k$-NN).\n",
    "* Classification and Regression Trees (CART). \n",
    "* Support Vector Machines (SVM)."
   ]
  },
  {
   "cell_type": "markdown",
   "metadata": {},
   "source": [
    "<a id=\"section221\"></a>\n",
    "### <font color=\"#004D7F\"> 2.2.1. $k$-Nearest Neighbours</font>"
   ]
  },
  {
   "cell_type": "markdown",
   "metadata": {},
   "source": [
    "$k$-NN localiza las $k$ instancias más similares en el conjunto de datos de entrenamiento para una nueva instancia de datos. De los $k$ vecinos, se toma una variable de salida media o mediana como la predicción. "
   ]
  },
  {
   "cell_type": "code",
   "execution_count": 12,
   "metadata": {},
   "outputs": [
    {
     "name": "stdout",
     "output_type": "stream",
     "text": [
      "MSE: -5331.62783328371\n"
     ]
    },
    {
     "name": "stderr",
     "output_type": "stream",
     "text": [
      "C:\\Users\\Italo\\anaconda3\\lib\\site-packages\\sklearn\\model_selection\\_split.py:296: FutureWarning: Setting a random_state has no effect since shuffle is False. This will raise an error in 0.24. You should leave random_state to its default (None), or set shuffle=True.\n",
      "  FutureWarning\n"
     ]
    }
   ],
   "source": [
    "# k-NN Regressionore\n",
    "\n",
    "from sklearn.model_selection import KFold\n",
    "from sklearn.model_selection import cross_val_score\n",
    "from sklearn.neighbors import KNeighborsRegressor\n",
    "\n",
    "\n",
    "kfold=KFold(n_splits=10,random_state=7)\n",
    "model=KNeighborsRegressor()\n",
    "scoring='neg_mean_squared_error'\n",
    "results=cross_val_score(model,X,Y,cv=kfold,scoring=scoring)\n",
    "print(f\"MSE: {results.mean()}\")\n"
   ]
  },
  {
   "cell_type": "markdown",
   "metadata": {},
   "source": [
    "Vemos que el error se ha disparado, en comparacion a los 4 modelos de arriba, lo bueno es que este modelo tienes varios hiperparametros que se les puede modificar de tal forma que este error se reduzca lo mayor posible"
   ]
  },
  {
   "cell_type": "code",
   "execution_count": null,
   "metadata": {},
   "outputs": [],
   "source": [
    "Por ejemplo ahora vamos ahora a modificar los hiperparametros, por ejemplo cambiaremos el algorithm,los vecinos y el weights"
   ]
  },
  {
   "cell_type": "code",
   "execution_count": 15,
   "metadata": {},
   "outputs": [
    {
     "name": "stdout",
     "output_type": "stream",
     "text": [
      "MSE: -4671.965507925192\n"
     ]
    },
    {
     "name": "stderr",
     "output_type": "stream",
     "text": [
      "C:\\Users\\Italo\\anaconda3\\lib\\site-packages\\sklearn\\model_selection\\_split.py:296: FutureWarning: Setting a random_state has no effect since shuffle is False. This will raise an error in 0.24. You should leave random_state to its default (None), or set shuffle=True.\n",
      "  FutureWarning\n"
     ]
    }
   ],
   "source": [
    "# k-NN Regressionore\n",
    "\n",
    "from sklearn.model_selection import KFold\n",
    "from sklearn.model_selection import cross_val_score\n",
    "from sklearn.neighbors import KNeighborsRegressor\n",
    "\n",
    "\n",
    "kfold=KFold(n_splits=10,random_state=7)\n",
    "model=KNeighborsRegressor(n_neighbors=9,algorithm='kd_tree',weights='distance')\n",
    "scoring='neg_mean_squared_error'\n",
    "results=cross_val_score(model,X,Y,cv=kfold,scoring=scoring)\n",
    "print(f\"MSE: {results.mean()}\")\n"
   ]
  },
  {
   "cell_type": "markdown",
   "metadata": {},
   "source": [
    "Vemos que nuestro error ha disminuido"
   ]
  },
  {
   "cell_type": "markdown",
   "metadata": {},
   "source": [
    "<a id=\"section222\"></a>\n",
    "### <font color=\"#004D7F\"> 2.2.2. Classification and Regression Trees</font>"
   ]
  },
  {
   "cell_type": "markdown",
   "metadata": {},
   "source": [
    "CART usa los datos de entrenamiento para seleccionar los mejores puntos para dividir los datos con el fin de minimizar una métrica de costos. La métrica de costo predeterminada para los árboles de decisión de regresión es el error cuadrático medio, especificado en el parámetro `criterion`. Puede construir un modelo CART utilizando la clase `DecisionTreeRegressor`."
   ]
  },
  {
   "cell_type": "code",
   "execution_count": 19,
   "metadata": {},
   "outputs": [
    {
     "name": "stdout",
     "output_type": "stream",
     "text": [
      "MSE: -11795.850850700415\n"
     ]
    },
    {
     "name": "stderr",
     "output_type": "stream",
     "text": [
      "C:\\Users\\Italo\\anaconda3\\lib\\site-packages\\sklearn\\model_selection\\_split.py:296: FutureWarning: Setting a random_state has no effect since shuffle is False. This will raise an error in 0.24. You should leave random_state to its default (None), or set shuffle=True.\n",
      "  FutureWarning\n"
     ]
    }
   ],
   "source": [
    "# CART Regression\n",
    "\n",
    "from sklearn.tree import DecisionTreeRegressor\n",
    "\n",
    "kfold=KFold(n_splits=10,random_state=7)\n",
    "model=DecisionTreeRegressor(criterion='friedman_mse')\n",
    "scoring='neg_mean_squared_error'\n",
    "results=cross_val_score(model,X,Y,cv=kfold,scoring=scoring)\n",
    "print(f\"MSE: {results.mean()}\")"
   ]
  },
  {
   "cell_type": "markdown",
   "metadata": {},
   "source": [
    "<a id=\"section223\"></a>\n",
    "### <font color=\"#004D7F\"> 2.2.3. Support Vector Machines</font>"
   ]
  },
  {
   "cell_type": "markdown",
   "metadata": {},
   "source": [
    "SVM se desarrollaró para la clasificación binaria. La técnica se ha extendido para los problemas de predicción de valores reales llamados Support Vector Regression (SVR). Primero vamos a usar un modelo sin ponerle parametros(en este caso toma por defecto al parametro kernel con un valor de 'rbf')\n"
   ]
  },
  {
   "cell_type": "code",
   "execution_count": 21,
   "metadata": {},
   "outputs": [
    {
     "name": "stderr",
     "output_type": "stream",
     "text": [
      "C:\\Users\\Italo\\anaconda3\\lib\\site-packages\\sklearn\\model_selection\\_split.py:296: FutureWarning: Setting a random_state has no effect since shuffle is False. This will raise an error in 0.24. You should leave random_state to its default (None), or set shuffle=True.\n",
      "  FutureWarning\n"
     ]
    },
    {
     "name": "stdout",
     "output_type": "stream",
     "text": [
      "MSE: -4202.62502384061\n"
     ]
    }
   ],
   "source": [
    "# CART Regression\n",
    "from sklearn.svm import SVR\n",
    "\n",
    "kfold=KFold(n_splits=10,random_state=7)\n",
    "model=SVR()\n",
    "scoring='neg_mean_squared_error'\n",
    "results=cross_val_score(model,X,Y,cv=kfold,scoring=scoring)\n",
    "print(f\"MSE: {results.mean()}\")"
   ]
  },
  {
   "cell_type": "markdown",
   "metadata": {},
   "source": [
    "Vemos que nos sale un error alto. Ahora vamos a modificarle 2 parametros, el kernel y el degree."
   ]
  },
  {
   "cell_type": "code",
   "execution_count": 26,
   "metadata": {},
   "outputs": [
    {
     "name": "stderr",
     "output_type": "stream",
     "text": [
      "C:\\Users\\Italo\\anaconda3\\lib\\site-packages\\sklearn\\model_selection\\_split.py:296: FutureWarning: Setting a random_state has no effect since shuffle is False. This will raise an error in 0.24. You should leave random_state to its default (None), or set shuffle=True.\n",
      "  FutureWarning\n"
     ]
    },
    {
     "name": "stdout",
     "output_type": "stream",
     "text": [
      "MSE: -4185.091464706861\n"
     ]
    }
   ],
   "source": [
    "# CART Regression\n",
    "from sklearn.svm import SVR\n",
    "\n",
    "kfold=KFold(n_splits=10,random_state=7)\n",
    "model=SVR(kernel='sigmoid',degree=3)\n",
    "scoring='neg_mean_squared_error'\n",
    "results=cross_val_score(model,X,Y,cv=kfold,scoring=scoring)\n",
    "print(f\"MSE: {results.mean()}\")"
   ]
  },
  {
   "cell_type": "markdown",
   "metadata": {},
   "source": [
    "Observamos que el error se ha reducido un poco. Ahora vamos a darle al parametro kernel el valor 'linear', con esto vamos a hacer que nuestro svm se comporto como un modelo de taxonomia lineal"
   ]
  },
  {
   "cell_type": "code",
   "execution_count": 27,
   "metadata": {},
   "outputs": [
    {
     "name": "stderr",
     "output_type": "stream",
     "text": [
      "C:\\Users\\Italo\\anaconda3\\lib\\site-packages\\sklearn\\model_selection\\_split.py:296: FutureWarning: Setting a random_state has no effect since shuffle is False. This will raise an error in 0.24. You should leave random_state to its default (None), or set shuffle=True.\n",
      "  FutureWarning\n"
     ]
    },
    {
     "name": "stdout",
     "output_type": "stream",
     "text": [
      "MSE: -4193.396414864668\n"
     ]
    }
   ],
   "source": [
    "# CART Regression\n",
    "from sklearn.svm import SVR\n",
    "\n",
    "kfold=KFold(n_splits=10,random_state=7)\n",
    "model=SVR(kernel='linear')\n",
    "scoring='neg_mean_squared_error'\n",
    "results=cross_val_score(model,X,Y,cv=kfold,scoring=scoring)\n",
    "print(f\"MSE: {results.mean()}\")"
   ]
  },
  {
   "cell_type": "markdown",
   "metadata": {},
   "source": [
    "Aún asi vemos que nuestro modelo tiene mucho error, esto puede ser porque nuestros datos no se ajustan a un modelo lineal."
   ]
  },
  {
   "cell_type": "markdown",
   "metadata": {},
   "source": [
    "<a id=\"section23\"></a>\n",
    "## <font color=\"#004D7F\"> 2.3. Plantilla para comparar algoritmos</font>"
   ]
  },
  {
   "cell_type": "code",
   "execution_count": 39,
   "metadata": {},
   "outputs": [
    {
     "name": "stderr",
     "output_type": "stream",
     "text": [
      "C:\\Users\\Italo\\anaconda3\\lib\\site-packages\\sklearn\\model_selection\\_split.py:296: FutureWarning: Setting a random_state has no effect since shuffle is False. This will raise an error in 0.24. You should leave random_state to its default (None), or set shuffle=True.\n",
      "  FutureWarning\n",
      "C:\\Users\\Italo\\anaconda3\\lib\\site-packages\\sklearn\\model_selection\\_split.py:296: FutureWarning: Setting a random_state has no effect since shuffle is False. This will raise an error in 0.24. You should leave random_state to its default (None), or set shuffle=True.\n",
      "  FutureWarning\n",
      "C:\\Users\\Italo\\anaconda3\\lib\\site-packages\\sklearn\\model_selection\\_split.py:296: FutureWarning: Setting a random_state has no effect since shuffle is False. This will raise an error in 0.24. You should leave random_state to its default (None), or set shuffle=True.\n",
      "  FutureWarning\n"
     ]
    },
    {
     "name": "stdout",
     "output_type": "stream",
     "text": [
      "LiR: -4128.861078750497 (7977.634994360253%)\n",
      "Ridge: -4118.679963611857 (7980.55101357425%)\n",
      "Lasso: -4110.55839395247 (7992.040254499503%)\n",
      "ElN: -4109.062032102183 (7992.440799899827%)"
     ]
    },
    {
     "name": "stderr",
     "output_type": "stream",
     "text": [
      "C:\\Users\\Italo\\anaconda3\\lib\\site-packages\\sklearn\\model_selection\\_split.py:296: FutureWarning: Setting a random_state has no effect since shuffle is False. This will raise an error in 0.24. You should leave random_state to its default (None), or set shuffle=True.\n",
      "  FutureWarning\n",
      "C:\\Users\\Italo\\anaconda3\\lib\\site-packages\\sklearn\\model_selection\\_split.py:296: FutureWarning: Setting a random_state has no effect since shuffle is False. This will raise an error in 0.24. You should leave random_state to its default (None), or set shuffle=True.\n",
      "  FutureWarning\n",
      "C:\\Users\\Italo\\anaconda3\\lib\\site-packages\\sklearn\\model_selection\\_split.py:296: FutureWarning: Setting a random_state has no effect since shuffle is False. This will raise an error in 0.24. You should leave random_state to its default (None), or set shuffle=True.\n",
      "  FutureWarning\n"
     ]
    },
    {
     "name": "stdout",
     "output_type": "stream",
     "text": [
      "\n",
      "KNN: -5331.62783328371 (7966.558312232972%)\n",
      "CART: -11770.08231522153 (20041.88459979405%)\n"
     ]
    },
    {
     "name": "stderr",
     "output_type": "stream",
     "text": [
      "C:\\Users\\Italo\\anaconda3\\lib\\site-packages\\sklearn\\model_selection\\_split.py:296: FutureWarning: Setting a random_state has no effect since shuffle is False. This will raise an error in 0.24. You should leave random_state to its default (None), or set shuffle=True.\n",
      "  FutureWarning\n"
     ]
    },
    {
     "name": "stdout",
     "output_type": "stream",
     "text": [
      "SVR: -4193.396414864668 (8343.068466551533%)\n"
     ]
    }
   ],
   "source": [
    "from sklearn.linear_model import LinearRegression\n",
    "from sklearn.svm import SVR\n",
    "from sklearn.tree import DecisionTreeRegressor\n",
    "from sklearn.model_selection import KFold\n",
    "from sklearn.model_selection import cross_val_score\n",
    "from sklearn.neighbors import KNeighborsRegressor\n",
    "from sklearn.linear_model import ElasticNet\n",
    "from sklearn.linear_model import Ridge\n",
    "from sklearn.linear_model import Lasso\n",
    "from matplotlib import pyplot\n",
    "\n",
    "models= []\n",
    "\n",
    "models.append(( 'LiR',LinearRegression( )))\n",
    "models.append(( 'Ridge',Ridge()))\n",
    "models.append(( 'Lasso',Lasso()))\n",
    "models.append(( 'ElN',ElasticNet()))\n",
    "models.append(( 'KNN',KNeighborsRegressor()))\n",
    "models.append(( 'CART' ,DecisionTreeRegressor(criterion='friedman_mse')))\n",
    "models.append(( 'SVR' , SVR(kernel='linear')))\n",
    "\n",
    "results=[]           \n",
    "names= []\n",
    "scoring='neg_mean_squared_error'\n",
    "\n",
    "for name, model in models: \n",
    "    kfold = KFold( n_splits=10, random_state=7) \n",
    "    cv_results = cross_val_score (model, X, Y, cv=kfold , scoring=scoring) \n",
    "    results.append(cv_results) \n",
    "    names.append(name) \n",
    "    print(f\"{name}: {cv_results.mean()} ({ cv_results.std()}%)\")\n",
    " "
   ]
  },
  {
   "cell_type": "code",
   "execution_count": 34,
   "metadata": {},
   "outputs": [
    {
     "data": {
      "image/png": "[encoded data removed]",
      "text/plain": [
       "<Figure size 432x288 with 1 Axes>"
      ]
     },
     "metadata": {
      "needs_background": "light"
     },
     "output_type": "display_data"
    }
   ],
   "source": [
    "# boxplot algorithm comparison \n",
    "fig = pyplot.figure() \n",
    "fig.suptitle('Comparacio de Algoritmos') \n",
    "ax = fig.add_subplot(111) \n",
    "pyplot.boxplot( results) \n",
    "ax.set_xticklabels(names) \n",
    "pyplot .show()\n"
   ]
  },
  {
   "cell_type": "markdown",
   "metadata": {},
   "source": [
    "Vemos que el ElN es el modelo que tiene un error menor y tambien una menor varianza"
   ]
  },
  {
   "cell_type": "markdown",
   "metadata": {},
   "source": [
    "---\n",
    "\n",
    "<a id=\"section3\"></a>\n",
    "# <font color=\"#004D7F\"> 3. Algoritmos de conjunto</font>"
   ]
  },
  {
   "cell_type": "markdown",
   "metadata": {},
   "source": [
    "Cuando usamos distintos estimadores para un mismo conjunto de datos"
   ]
  },
  {
   "cell_type": "markdown",
   "metadata": {},
   "source": [
    "<a id=\"section31\"></a>\n",
    "## <font color=\"#004D7F\"> 3.1. Algoritmos Bagging</font>"
   ]
  },
  {
   "cell_type": "markdown",
   "metadata": {},
   "source": [
    "<a id=\"section311\"></a>\n",
    "### <font color=\"#004D7F\"> 3.1.1. Bagged Decision Trees</font>"
   ]
  },
  {
   "cell_type": "code",
   "execution_count": 40,
   "metadata": {},
   "outputs": [
    {
     "name": "stderr",
     "output_type": "stream",
     "text": [
      "C:\\Users\\Italo\\anaconda3\\lib\\site-packages\\sklearn\\model_selection\\_split.py:296: FutureWarning: Setting a random_state has no effect since shuffle is False. This will raise an error in 0.24. You should leave random_state to its default (None), or set shuffle=True.\n",
      "  FutureWarning\n"
     ]
    },
    {
     "name": "stdout",
     "output_type": "stream",
     "text": [
      "MSE: -109.74255583209103(322.76624492662876%)\n"
     ]
    }
   ],
   "source": [
    "from sklearn . model_selection import KFold \n",
    "from sklearn . model_selection import cross_val_score \n",
    "from sklearn .ensemble import BaggingRegressor\n",
    "from sklearn . tree import DecisionTreeRegressor \n",
    "seed = 7 \n",
    "kfold = KFold( n_splits=10, random_state=seed) \n",
    "cart = DecisionTreeRegressor () \n",
    "num_trees = 100 \n",
    "model = BaggingRegressor( base_estimator=cart , n_estimators=num_trees , random_state=seed) \n",
    "results = cross_val_score (model, X, Y, cv=kfold) \n",
    "print(f\"MSE: {results.mean()}({ results.std()}%)\")\n"
   ]
  },
  {
   "cell_type": "markdown",
   "metadata": {},
   "source": [
    "<a id=\"section312\"></a>\n",
    "### <font color=\"#004D7F\"> 3.1.2. Random Forest</font>"
   ]
  },
  {
   "cell_type": "code",
   "execution_count": 41,
   "metadata": {},
   "outputs": [
    {
     "name": "stderr",
     "output_type": "stream",
     "text": [
      "C:\\Users\\Italo\\anaconda3\\lib\\site-packages\\sklearn\\model_selection\\_split.py:296: FutureWarning: Setting a random_state has no effect since shuffle is False. This will raise an error in 0.24. You should leave random_state to its default (None), or set shuffle=True.\n",
      "  FutureWarning\n"
     ]
    },
    {
     "name": "stdout",
     "output_type": "stream",
     "text": [
      "MSE: -85.82939342796419(250.2076745810255%)\n"
     ]
    }
   ],
   "source": [
    "from sklearn . model_selection import KFold \n",
    "from sklearn . model_selection import cross_val_score \n",
    "from sklearn .ensemble import RandomForestRegressor\n",
    "\n",
    "seed = 7\n",
    "num_trees = 100 \n",
    "max_features=3\n",
    "\n",
    "kfold = KFold( n_splits=10, random_state=seed) \n",
    "model = RandomForestRegressor( n_estimators=num_trees ,max_features=max_features, random_state=seed) \n",
    "results = cross_val_score (model, X, Y, cv=kfold) \n",
    "print(f\"MSE: {results.mean()}({ results.std()}%)\")"
   ]
  },
  {
   "cell_type": "markdown",
   "metadata": {},
   "source": [
    "<a id=\"section313\"></a>\n",
    "### <font color=\"#004D7F\"> 3.1.3. Extra Trees</font>"
   ]
  },
  {
   "cell_type": "code",
   "execution_count": 43,
   "metadata": {},
   "outputs": [
    {
     "name": "stderr",
     "output_type": "stream",
     "text": [
      "C:\\Users\\Italo\\anaconda3\\lib\\site-packages\\sklearn\\model_selection\\_split.py:296: FutureWarning: Setting a random_state has no effect since shuffle is False. This will raise an error in 0.24. You should leave random_state to its default (None), or set shuffle=True.\n",
      "  FutureWarning\n"
     ]
    },
    {
     "name": "stdout",
     "output_type": "stream",
     "text": [
      "MSE: -173.21683635450495(500.2481313017765%)\n"
     ]
    }
   ],
   "source": [
    "from sklearn . model_selection import KFold \n",
    "from sklearn . model_selection import cross_val_score \n",
    "from sklearn .ensemble import ExtraTreesRegressor\n",
    "\n",
    "seed = 7\n",
    "num_trees = 100 \n",
    "max_features=3\n",
    "\n",
    "kfold = KFold( n_splits=10, random_state=seed) \n",
    "model = ExtraTreesRegressor( n_estimators=num_trees ,max_features=max_features, random_state=seed) \n",
    "results = cross_val_score (model, X, Y, cv=kfold) \n",
    "print(f\"MSE: {results.mean()}({ results.std()}%)\")"
   ]
  },
  {
   "cell_type": "markdown",
   "metadata": {},
   "source": [
    "<a id=\"section32\"></a>\n",
    "## <font color=\"#004D7F\"> 3.2. Algoritmos Boosting</font>"
   ]
  },
  {
   "cell_type": "markdown",
   "metadata": {},
   "source": [
    "Tambien llamados algorimtos inteligentes"
   ]
  },
  {
   "cell_type": "markdown",
   "metadata": {},
   "source": [
    "<a id=\"section321\"></a>\n",
    "### <font color=\"#004D7F\"> 3.2.1. AdaBoost</font>"
   ]
  },
  {
   "cell_type": "code",
   "execution_count": 48,
   "metadata": {},
   "outputs": [
    {
     "name": "stderr",
     "output_type": "stream",
     "text": [
      "C:\\Users\\Italo\\anaconda3\\lib\\site-packages\\sklearn\\model_selection\\_split.py:296: FutureWarning: Setting a random_state has no effect since shuffle is False. This will raise an error in 0.24. You should leave random_state to its default (None), or set shuffle=True.\n",
      "  FutureWarning\n"
     ]
    },
    {
     "name": "stdout",
     "output_type": "stream",
     "text": [
      "MSE: -169.13316518650453(494.25621594157536%)\n"
     ]
    }
   ],
   "source": [
    "from sklearn . model_selection import KFold \n",
    "from sklearn . model_selection import cross_val_score \n",
    "from sklearn .ensemble import AdaBoostRegressor\n",
    "\n",
    "seed = 7\n",
    "num_trees = 30\n",
    "max_features=3\n",
    "\n",
    "kfold = KFold( n_splits=10, random_state=seed) \n",
    "model = AdaBoostRegressor( n_estimators=num_trees, random_state=seed) \n",
    "results = cross_val_score (model, X, Y, cv=kfold) \n",
    "print(f\"MSE: {results.mean()}({ results.std()}%)\")"
   ]
  },
  {
   "cell_type": "code",
   "execution_count": 47,
   "metadata": {},
   "outputs": [
    {
     "name": "stderr",
     "output_type": "stream",
     "text": [
      "C:\\Users\\Italo\\anaconda3\\lib\\site-packages\\sklearn\\model_selection\\_split.py:296: FutureWarning: Setting a random_state has no effect since shuffle is False. This will raise an error in 0.24. You should leave random_state to its default (None), or set shuffle=True.\n",
      "  FutureWarning\n"
     ]
    },
    {
     "name": "stdout",
     "output_type": "stream",
     "text": [
      "MSE: -294.51571159082715(854.2300759223095%)\n"
     ]
    }
   ],
   "source": [
    "from sklearn . model_selection import KFold \n",
    "from sklearn . model_selection import cross_val_score \n",
    "from sklearn .ensemble import AdaBoostRegressor\n",
    "\n",
    "seed = 7\n",
    "num_trees = 100\n",
    "max_features=3\n",
    "\n",
    "kfold = KFold( n_splits=10, random_state=seed) \n",
    "model = AdaBoostRegressor( n_estimators=num_trees, random_state=seed) \n",
    "results = cross_val_score (model, X, Y, cv=kfold) \n",
    "print(f\"MSE: {results.mean()}({ results.std()}%)\")"
   ]
  },
  {
   "cell_type": "markdown",
   "metadata": {},
   "source": [
    "Vemos que al aumentar la cantidad de arboles tenemos peores resultados ya que el error se incrementa y la varianza también"
   ]
  },
  {
   "cell_type": "markdown",
   "metadata": {},
   "source": [
    "<a id=\"section322\"></a>\n",
    "### <font color=\"#004D7F\"> 3.2.2. Stochastic Gradient Boosting</font>"
   ]
  },
  {
   "cell_type": "markdown",
   "metadata": {},
   "source": [
    "Es un algoritmo muy sofisticado, que se dispara bastante en el consumo computancional"
   ]
  },
  {
   "cell_type": "code",
   "execution_count": 51,
   "metadata": {},
   "outputs": [
    {
     "name": "stderr",
     "output_type": "stream",
     "text": [
      "C:\\Users\\Italo\\anaconda3\\lib\\site-packages\\sklearn\\model_selection\\_split.py:296: FutureWarning: Setting a random_state has no effect since shuffle is False. This will raise an error in 0.24. You should leave random_state to its default (None), or set shuffle=True.\n",
      "  FutureWarning\n"
     ]
    },
    {
     "name": "stdout",
     "output_type": "stream",
     "text": [
      "MSE: -67.56414196486551(181.5561008831879%)\n"
     ]
    }
   ],
   "source": [
    "from sklearn . model_selection import KFold \n",
    "from sklearn . model_selection import cross_val_score \n",
    "from sklearn .ensemble import GradientBoostingRegressor\n",
    "\n",
    "seed = 7\n",
    "num_trees = 100\n",
    "max_features=3\n",
    "\n",
    "kfold = KFold( n_splits=10, random_state=seed) \n",
    "model = GradientBoostingRegressor( n_estimators=num_trees, random_state=seed) \n",
    "results = cross_val_score (model, X, Y, cv=kfold) \n",
    "print(f\"MSE: {results.mean()}({ results.std()}%)\")"
   ]
  },
  {
   "cell_type": "markdown",
   "metadata": {},
   "source": [
    "Vemos que tenemos poco error, pero la varianza sigue siendo alta, ahora vamos a ponerle un valor al hiperparametro learning_rate"
   ]
  },
  {
   "cell_type": "code",
   "execution_count": 52,
   "metadata": {},
   "outputs": [
    {
     "name": "stderr",
     "output_type": "stream",
     "text": [
      "C:\\Users\\Italo\\anaconda3\\lib\\site-packages\\sklearn\\model_selection\\_split.py:296: FutureWarning: Setting a random_state has no effect since shuffle is False. This will raise an error in 0.24. You should leave random_state to its default (None), or set shuffle=True.\n",
      "  FutureWarning\n"
     ]
    },
    {
     "name": "stdout",
     "output_type": "stream",
     "text": [
      "MSE: -115.67702684913942(313.93853304159626%)\n"
     ]
    }
   ],
   "source": [
    "from sklearn . model_selection import KFold \n",
    "from sklearn . model_selection import cross_val_score \n",
    "from sklearn .ensemble import GradientBoostingRegressor\n",
    "\n",
    "seed = 7\n",
    "num_trees = 100\n",
    "max_features=3\n",
    "\n",
    "kfold = KFold( n_splits=10, random_state=seed) \n",
    "model = GradientBoostingRegressor( n_estimators=num_trees,learning_rate=0.3, random_state=seed) \n",
    "results = cross_val_score (model, X, Y, cv=kfold) \n",
    "print(f\"MSE: {results.mean()}({ results.std()}%)\")"
   ]
  },
  {
   "cell_type": "markdown",
   "metadata": {},
   "source": [
    "Vemos que tenemos un peor modelo, hay mas error y varianza, pero igual debemos probar con distintos hiperparametros porque puede para un conjunto de datos sí se mejore el modelo al ponerle un learning_rate que no sea el que esta por defecto"
   ]
  },
  {
   "cell_type": "markdown",
   "metadata": {},
   "source": [
    "<a id=\"section33\"></a>\n",
    "## <font color=\"#004D7F\"> 3.3. Algoritmo Voting</font>"
   ]
  },
  {
   "cell_type": "markdown",
   "metadata": {},
   "source": [
    "Es un algoritmo un poco mas especializado porque usamos distintos estimadores y ver una ponderacion de esos resultados. Este algoritmo puede dar buenos resultados, aunque es un poco complejo"
   ]
  },
  {
   "cell_type": "code",
   "execution_count": 56,
   "metadata": {},
   "outputs": [
    {
     "name": "stderr",
     "output_type": "stream",
     "text": [
      "C:\\Users\\Italo\\anaconda3\\lib\\site-packages\\sklearn\\model_selection\\_split.py:296: FutureWarning: Setting a random_state has no effect since shuffle is False. This will raise an error in 0.24. You should leave random_state to its default (None), or set shuffle=True.\n",
      "  FutureWarning\n"
     ]
    },
    {
     "name": "stdout",
     "output_type": "stream",
     "text": [
      "MSE: -38.586852241008835(109.6856989922095%)\n"
     ]
    }
   ],
   "source": [
    "from sklearn . model_selection import KFold \n",
    "from sklearn . model_selection import cross_val_score \n",
    "from sklearn . linear_model import LinearRegression \n",
    "from sklearn . tree import DecisionTreeRegressor \n",
    "from sklearn .svm import SVR\n",
    "from sklearn .ensemble import VotingRegressor \n",
    "\n",
    "\n",
    "kfold = KFold( n_splits=10, random_state=7) \n",
    "# creando los submodelos \n",
    "estimators = [] \n",
    "model1 = LinearRegression() \n",
    "estimators.append(('regression', model1) ) \n",
    "model2=DecisionTreeRegressor(criterion='friedman_mse')\n",
    "estimators.append(( 'cart' , model2) ) \n",
    "model3=SVR(kernel='linear') \n",
    "estimators .append(( 'svr' , model3) ) \n",
    "# creando el modelo ensamblado \n",
    "ensemble = VotingRegressor ( estimators ) \n",
    "results = cross_val_score (ensemble , X, Y, cv=kfold) \n",
    "print(f\"MSE: {results.mean()}({ results.std()}%)\")"
   ]
  },
  {
   "cell_type": "markdown",
   "metadata": {},
   "source": [
    "---\n",
    "\n",
    "<a id=\"section3\"></a>\n",
    "# <font color=\"#004D7F\"> 4. Super Lerner</font>"
   ]
  },
  {
   "cell_type": "markdown",
   "metadata": {},
   "source": [
    "Importando las librerias"
   ]
  },
  {
   "cell_type": "code",
   "execution_count": 66,
   "metadata": {},
   "outputs": [],
   "source": [
    "from math import sqrt \n",
    "from numpy import hstack \n",
    "from numpy import vstack \n",
    "from numpy import asarray \n",
    "from sklearn . model_selection import KFold \n",
    "from sklearn . model_selection import train_test_split \n",
    "from sklearn . metrics import mean_squared_error \n",
    "from sklearn . linear_model import LinearRegression \n",
    "from sklearn . linear_model import ElasticNet \n",
    "from sklearn . neighbors import KNeighborsRegressor \n",
    "from sklearn . tree import DecisionTreeRegressor \n",
    "from sklearn .svm import SVR \n",
    "from sklearn .ensemble import AdaBoostRegressor \n",
    "from sklearn .ensemble import BaggingRegressor \n",
    "from sklearn .ensemble import RandomForestRegressor \n",
    "from sklearn .ensemble import ExtraTreesRegressor\n",
    "\n"
   ]
  },
  {
   "cell_type": "markdown",
   "metadata": {},
   "source": [
    "Hacemos la vidision de la data para el entrenamiento del SuperLerner y luego el test"
   ]
  },
  {
   "cell_type": "code",
   "execution_count": 93,
   "metadata": {},
   "outputs": [
    {
     "name": "stdout",
     "output_type": "stream",
     "text": [
      "Train (258, 10) (258,) Test (259, 10) (259,)\n"
     ]
    }
   ],
   "source": [
    "# Division \n",
    "X_SL, X_val , Y_SL, Y_val = train_test_split (X_SL, Y_SL, test_size =0.50) \n",
    "print ( 'Train' , X_SL.shape , Y_SL.shape , 'Test' , X_val .shape , Y_val .shape) \n"
   ]
  },
  {
   "cell_type": "markdown",
   "metadata": {},
   "source": [
    "Creando la lista de modelos con los escogidos anteriormente"
   ]
  },
  {
   "cell_type": "code",
   "execution_count": 94,
   "metadata": {},
   "outputs": [],
   "source": [
    "\n",
    "def get_models () : \n",
    "    models = list () \n",
    "    models.append(LinearRegression () ) \n",
    "    models.append( Ridge () ) \n",
    "    models.append(SVR(kernel='linear')) \n",
    "    models.append(DecisionTreeRegressor (criterion='friedman_mse') ) \n",
    "    models.append(KNeighborsRegressor () ) \n",
    "    models.append(AdaBoostRegressor () ) \n",
    "    models.append(BaggingRegressor( n_estimators=10)) \n",
    "    models.append(RandomForestRegressor( n_estimators=10)) \n",
    "    models.append(ExtraTreesRegressor ( n_estimators=10)) \n",
    "    return models"
   ]
  },
  {
   "cell_type": "markdown",
   "metadata": {},
   "source": [
    "Hacemos la validacion cruzada"
   ]
  },
  {
   "cell_type": "code",
   "execution_count": 96,
   "metadata": {},
   "outputs": [],
   "source": [
    "\n",
    "# Recolectar las predicciones de una validacion cruzada \n",
    "def get_out_of_fold_predictions (X_SL, Y_SL, models) : \n",
    "    meta_X, meta_Y = list(), list() \n",
    "    # Definicion del kfold \n",
    "    kfold = KFold( n_splits=10, shuffle=True) \n",
    "    # Enumerar las particiones \n",
    "    for train_ix , test_ix in kfold.split(X_SL) : \n",
    "        fold_yhats = list () \n",
    "        # Obetenemos los datos \n",
    "        train_X , test_X = X_SL[ train_ix ] , X_SL[ test_ix ] \n",
    "        train_Y , test_Y = Y_SL[ train_ix ] , Y_SL[ test_ix ] \n",
    "        meta_Y. extend( test_Y ) \n",
    "        # Ajuste y predicciones de cada modelo \n",
    "        for model in models: \n",
    "            model.fit(train_X , train_Y ) \n",
    "            yhat = model. predict ( test_X ) \n",
    "            # Almacena las columnas \n",
    "            fold_yhats.append(yhat . reshape(len (yhat) ,1) ) \n",
    "        # Almacena el fold y yhats como columnas \n",
    "        meta_X.append(hstack( fold_yhats ) ) \n",
    "    return vstack (meta_X) , asarray (meta_Y)\n"
   ]
  },
  {
   "cell_type": "markdown",
   "metadata": {},
   "source": [
    "Ahora vamos a evaluar el modelo. Primero obtenemos los modelos y usa la funcion de hace un momento para obtener el meta_X y el meta_Y para el metaclasificador"
   ]
  },
  {
   "cell_type": "code",
   "execution_count": 97,
   "metadata": {},
   "outputs": [],
   "source": [
    "models = get_models ()\n",
    "meta_X, meta_Y = get_out_of_fold_predictions (X_SL, Y_SL, models) "
   ]
  },
  {
   "cell_type": "code",
   "execution_count": null,
   "metadata": {},
   "outputs": [],
   "source": [
    "Ahora ajustamos todos los modelos al dataset de entrenamiento"
   ]
  },
  {
   "cell_type": "code",
   "execution_count": 98,
   "metadata": {},
   "outputs": [],
   "source": [
    "def fit_base_models (X_SL, Y_SL, models) :\n",
    "    for model in models: \n",
    "        model. fit (X_SL, Y_SL)\n"
   ]
  },
  {
   "cell_type": "markdown",
   "metadata": {},
   "source": [
    "Ahora hacemos el ajuste del metamodelo"
   ]
  },
  {
   "cell_type": "code",
   "execution_count": 99,
   "metadata": {},
   "outputs": [],
   "source": [
    "def fit_meta_model(X_SL, Y_SL) : \n",
    "    model = LinearRegression () \n",
    "    model. fit (X_SL, Y_SL) \n",
    "    return model\n"
   ]
  },
  {
   "cell_type": "markdown",
   "metadata": {},
   "source": [
    "Ahora creamos una funcion de evaluacion de modelos bases para ver cuales son los modelos que tienen peor y mejor puntaje par a mi conjunto de datos"
   ]
  },
  {
   "cell_type": "code",
   "execution_count": 103,
   "metadata": {},
   "outputs": [],
   "source": [
    " def evaluate_models(X_SL, Y_SL, models) : \n",
    "        for model in models: \n",
    "            yhat = model. predict (X_SL) \n",
    "            mse = mean_squared_error(Y_SL, yhat) \n",
    "            print ( '% s : RMSE %.3f ' % (model. __class__ .__name__ , sqrt (mse) ) )\n"
   ]
  },
  {
   "cell_type": "markdown",
   "metadata": {},
   "source": [
    "Ahora vamos a hacer las predicciones de ese modelo"
   ]
  },
  {
   "cell_type": "code",
   "execution_count": 101,
   "metadata": {},
   "outputs": [],
   "source": [
    "def super_learner_predictions (X_SL, models , meta_model) : \n",
    "    meta_X = list () \n",
    "    for model in models: \n",
    "        yhat = model. predict (X_SL) \n",
    "        meta_X.append(yhat . reshape(len (yhat) ,1) ) \n",
    "    meta_X = hstack(meta_X) \n",
    "    # Prediccion \n",
    "    return meta_model. predict (meta_X)\n"
   ]
  },
  {
   "cell_type": "markdown",
   "metadata": {},
   "source": [
    "Ahora ajustamos y evaluamos"
   ]
  },
  {
   "cell_type": "code",
   "execution_count": 105,
   "metadata": {},
   "outputs": [
    {
     "name": "stdout",
     "output_type": "stream",
     "text": [
      "LinearRegression : RMSE 33.250 \n",
      "Ridge : RMSE 33.094 \n",
      "SVR : RMSE 33.555 \n",
      "DecisionTreeRegressor : RMSE 45.898 \n",
      "KNeighborsRegressor : RMSE 36.077 \n",
      "AdaBoostRegressor : RMSE 34.015 \n",
      "BaggingRegressor : RMSE 39.117 \n",
      "RandomForestRegressor : RMSE 50.314 \n",
      "ExtraTreesRegressor : RMSE 58.357 \n",
      "Super Learner : RMSE 32.122 \n"
     ]
    }
   ],
   "source": [
    "#Ajuste de modelos base\n",
    "fit_base_models (X_SL, Y_SL, models) \n",
    "# Ajuste del meta−modelo \n",
    "meta_model = fit_meta_model(meta_X, meta_Y) \n",
    "# Evaluar modelos base \n",
    "evaluate_models(X_val , Y_val , models) \n",
    "# evaluar el meta−modelo \n",
    "yhat = super_learner_predictions (X_val , models , meta_model) \n",
    "print ( 'Super Learner : RMSE %.3f ' % ( sqrt (mean_squared_error( Y_val , yhat) ) ) )\n"
   ]
  },
  {
   "cell_type": "markdown",
   "metadata": {},
   "source": [
    "Vemos que los algoritmos de taxonomia lineal se ajustan un poco mejor a mi dataset en comparacion a los algoritmos de conjunto.\n",
    "Vemos que falta configurar un poco estos modelos porque hemos puesto en RandomForest, BagginRegressor y ExtraTrees a 10 estimadores(Arboles), quizas si se configura mejor se tienen mejores resultados"
   ]
  }
 ],
 "metadata": {
  "kernelspec": {
   "display_name": "Python 3",
   "language": "python",
   "name": "python3"
  },
  "language_info": {
   "codemirror_mode": {
    "name": "ipython",
    "version": 3
   },
   "file_extension": ".py",
   "mimetype": "text/x-python",
   "name": "python",
   "nbconvert_exporter": "python",
   "pygments_lexer": "ipython3",
   "version": "3.7.6"
  },
  "toc": {
   "base_numbering": 1,
   "nav_menu": {},
   "number_sections": false,
   "sideBar": true,
   "skip_h1_title": true,
   "title_cell": "Table of Contents",
   "title_sidebar": "Contents",
   "toc_cell": false,
   "toc_position": {},
   "toc_section_display": true,
   "toc_window_display": false
  }
 },
 "nbformat": 4,
 "nbformat_minor": 2
}
