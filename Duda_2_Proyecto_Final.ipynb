{
  "cells": [
    {
      "metadata": {},
      "cell_type": "markdown",
      "source": "Primero importa las librerias"
    },
    {
      "metadata": {
        "trusted": true
      },
      "cell_type": "code",
      "source": "# Load libraries\nimport seaborn as sns\nimport numpy as np\nimport pandas as pd\nimport matplotlib.pyplot as plt\n# Load sklearn\nfrom sklearn.preprocessing import StandardScaler\nfrom sklearn.model_selection import train_test_split\nfrom sklearn.model_selection import KFold\nfrom sklearn.model_selection import cross_val_score\nfrom sklearn.model_selection import GridSearchCV\nfrom sklearn.linear_model import LinearRegression\nfrom sklearn.linear_model import Lasso\nfrom sklearn.linear_model import Ridge\nfrom sklearn.linear_model import ElasticNet\nfrom sklearn.tree import DecisionTreeRegressor\nfrom sklearn.neighbors import KNeighborsRegressor\nfrom sklearn.svm import SVR\nfrom sklearn.pipeline import Pipeline\nfrom sklearn.ensemble import RandomForestRegressor\nfrom sklearn.ensemble import GradientBoostingRegressor\nfrom sklearn.ensemble import ExtraTreesRegressor\nfrom sklearn.ensemble import AdaBoostRegressor\nfrom sklearn.metrics import mean_squared_error\n\n\nimport warnings\nwarnings.filterwarnings('ignore')",
      "execution_count": 1,
      "outputs": [
        {
          "output_type": "stream",
          "text": "/home/nbuser/anaconda3_501/lib/python3.6/importlib/_bootstrap.py:219: RuntimeWarning: numpy.dtype size changed, may indicate binary incompatibility. Expected 96, got 88\n  return f(*args, **kwds)\n",
          "name": "stderr"
        }
      ]
    },
    {
      "metadata": {},
      "cell_type": "markdown",
      "source": "Cargo mi dataset y reparto en caracteristicas normales y target"
    },
    {
      "metadata": {
        "trusted": true
      },
      "cell_type": "code",
      "source": "filename_reg = 'forestfires.csv'\ndata = pd.read_csv(filename_reg)\ndata1=data.drop(['month'], axis=1)\ndata2=data1.drop(['day'], axis=1)\n#names=['X','Y','FFMC','DMC','DC','ISI','temp','RH','wind','rain','area']\n\n#Dividamos la data \n\narray_reg = data2.values\n\nX=array_reg[:,0:10]\nY=array_reg[:,10]\n\nX_2=data2.drop(\"area\",1)\nY_2=data2[\"area\"]",
      "execution_count": 2,
      "outputs": []
    },
    {
      "metadata": {},
      "cell_type": "markdown",
      "source": "Creo el conjunto de validación"
    },
    {
      "metadata": {
        "trusted": true
      },
      "cell_type": "code",
      "source": "validation_size = 0.20\nseed = 7\nX_train, X_validation, Y_train, Y_validation = train_test_split(X, Y, \n                                               test_size=validation_size, random_state=seed)",
      "execution_count": 3,
      "outputs": []
    },
    {
      "metadata": {},
      "cell_type": "markdown",
      "source": "Evaluo posibles modelos"
    },
    {
      "metadata": {
        "trusted": true
      },
      "cell_type": "code",
      "source": "# Test options and evaluation metric\nnum_folds = 10\nseed = 7\nscoring = 'neg_mean_squared_error'\n\n# Spot Check Algorithms\n\nmodels= []\n\nmodels.append(( 'LiR',LinearRegression( )))\nmodels.append(( 'Ridge',Ridge()))\nmodels.append(( 'Lasso',Lasso()))\nmodels.append(( 'ElN',ElasticNet()))\nmodels.append(( 'KNN',KNeighborsRegressor()))\nmodels.append(( 'CART',DecisionTreeRegressor(criterion='friedman_mse')))\nmodels.append(( 'SVR',SVR(kernel='linear')))\n\nresults = []\nnames = []\nfor name, model in models:\n    kfold = KFold(n_splits=num_folds, random_state=seed)\n    cv_results = cross_val_score(model, X_train, Y_train, cv=kfold, scoring=scoring)\n    results.append(cv_results)\n    names.append(name)\n    print({name}, cv_results.mean(), ({cv_results.std()}))",
      "execution_count": 4,
      "outputs": [
        {
          "output_type": "stream",
          "text": "{'LiR'} -4589.6847368683075 {8867.027717135163}\n{'Ridge'} -4577.588724542246 {8855.3505172807}\n{'Lasso'} -4566.373230096475 {8867.384485463146}\n{'ElN'} -4563.3219644741575 {8866.265064002217}\n{'KNN'} -5194.6673428218355 {8436.39089282725}\n{'CART'} -9731.86849597706 {11273.223246453868}\n{'SVR'} -4667.039413951965 {9184.562415583117}\n",
          "name": "stdout"
        }
      ]
    },
    {
      "metadata": {},
      "cell_type": "markdown",
      "source": "Escojo al ElN ya que tiene el menor MSE. Uso el Grid Search para encontrar el mejor valor del hiperparametro 'alpha' para este modelo"
    },
    {
      "metadata": {
        "trusted": true
      },
      "cell_type": "code",
      "source": "# Test options and evaluation metric\nnum_folds = 10\nseed = 7\nscoring = 'neg_mean_squared_error'\n\n\nalpha = np.array([0.1,0.2,0.3,0.4,0.5,0.6,0.7,0.8,0.9,1.0])\n\n\nparam_grid=dict(alpha=alpha)\n\nmodel = ElasticNet()\nkfold = KFold(n_splits=num_folds, random_state=seed)\n\ngrid = GridSearchCV(estimator=model, param_grid= param_grid,scoring=scoring, cv=kfold)\n\ngrid_result = grid.fit(X_train, Y_train)\n\n\nprint({grid_result.best_score_.mean()}, {grid_result.best_estimator_.alpha})",
      "execution_count": 5,
      "outputs": [
        {
          "output_type": "stream",
          "text": "{-4600.977505023031} {1.0}\n",
          "name": "stdout"
        }
      ]
    },
    {
      "metadata": {},
      "cell_type": "markdown",
      "source": "Se observa que el valor optimo es 'alpha' = 1 y se obtiene con esto un MSE de 4600.977 "
    },
    {
      "metadata": {},
      "cell_type": "markdown",
      "source": "Esto me genera confusión puesto que antes se obtuvo para el ElN un MSE de 4563.142 en donde no se definió el hiperparametro 'alpha', sin embargo al no definirse este hiperparametro por default es 1 por lo tanto el MSE que obtengo con este GridSearch tambien deberia ser 4563.142"
    },
    {
      "metadata": {},
      "cell_type": "markdown",
      "source": "Adjunto el enlace en scikit-learn donde al inicio se menciona que por default para el ElasticNet Regression el 'alpha' es 1"
    },
    {
      "metadata": {},
      "cell_type": "markdown",
      "source": "https://scikit-learn.org/stable/modules/generated/sklearn.linear_model.ElasticNet.html"
    }
  ],
  "metadata": {
    "kernelspec": {
      "name": "python36",
      "display_name": "Python 3.6",
      "language": "python"
    },
    "language_info": {
      "mimetype": "text/x-python",
      "nbconvert_exporter": "python",
      "name": "python",
      "pygments_lexer": "ipython3",
      "version": "3.6.6",
      "file_extension": ".py",
      "codemirror_mode": {
        "version": 3,
        "name": "ipython"
      }
    }
  },
  "nbformat": 4,
  "nbformat_minor": 2
}